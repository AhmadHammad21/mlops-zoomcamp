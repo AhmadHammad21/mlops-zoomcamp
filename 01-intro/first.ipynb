{
 "cells": [
  {
   "cell_type": "code",
   "execution_count": 94,
   "id": "ee7858d1",
   "metadata": {},
   "outputs": [],
   "source": [
    "import pickle\n",
    "\n",
    "import pandas as pd\n",
    "import seaborn as sns\n",
    "import matplotlib.pyplot as plt\n",
    "\n",
    "from sklearn.feature_extraction import DictVectorizer\n",
    "from sklearn.linear_model import LinearRegression\n",
    "from sklearn.linear_model import Lasso\n",
    "from sklearn.linear_model import Ridge\n",
    "from xgboost import XGBRegressor\n",
    "\n",
    "from sklearn.metrics import mean_squared_error"
   ]
  },
  {
   "cell_type": "code",
   "execution_count": 99,
   "id": "ba1126d8",
   "metadata": {},
   "outputs": [],
   "source": [
    "def read_dataframe(filename):\n",
    "    df = pd.read_parquet(filename)\n",
    "    df['lpep_pickup_datetime'] = pd.to_datetime(df['lpep_pickup_datetime'])\n",
    "    df['lpep_dropoff_datetime'] = pd.to_datetime(df['lpep_dropoff_datetime'])\n",
    "\n",
    "    # Calculate duration\n",
    "    df['duration'] = df['lpep_dropoff_datetime'] - df['lpep_pickup_datetime']\n",
    "\n",
    "    # in seconds\n",
    "    df['duration'] = df['duration'].dt.total_seconds() / 60\n",
    "\n",
    "    # durations for more than 1 minute and less than 60 minutes\n",
    "    df = df[(df['duration'] >= 1) & (df['duration'] <= 60)]\n",
    "\n",
    "    categorical = ['PULocationID', 'DOLocationID']\n",
    "\n",
    "    df[categorical] = df[categorical].astype(str)\n",
    "    \n",
    "    df['PU_DO'] = df['PULocationID'] + '_' + df['DOLocationID']\n",
    "    \n",
    "    return df"
   ]
  },
  {
   "cell_type": "code",
   "execution_count": 100,
   "id": "5c206bbd",
   "metadata": {},
   "outputs": [],
   "source": [
    "train_df = read_dataframe(\"./green_tripdata_2024-01.parquet\")\n",
    "test_df = read_dataframe(\"./green_tripdata_2024-02.parquet\")"
   ]
  },
  {
   "cell_type": "code",
   "execution_count": 73,
   "id": "e63fba9a",
   "metadata": {
    "scrolled": false
   },
   "outputs": [
    {
     "name": "stderr",
     "output_type": "stream",
     "text": [
      "/home/codespace/anaconda3/lib/python3.9/site-packages/seaborn/distributions.py:2619: FutureWarning: `distplot` is a deprecated function and will be removed in a future version. Please adapt your code to use either `displot` (a figure-level function with similar flexibility) or `histplot` (an axes-level function for histograms).\n",
      "  warnings.warn(msg, FutureWarning)\n"
     ]
    },
    {
     "data": {
      "text/plain": [
       "<AxesSubplot:xlabel='duration', ylabel='Density'>"
      ]
     },
     "execution_count": 73,
     "metadata": {},
     "output_type": "execute_result"
    },
    {
     "data": {
      "image/png": "[encoded data removed]",
      "text/plain": [
       "<Figure size 432x288 with 1 Axes>"
      ]
     },
     "metadata": {
      "needs_background": "light"
     },
     "output_type": "display_data"
    }
   ],
   "source": [
    "sns.distplot(df_train['duration'])"
   ]
  },
  {
   "cell_type": "code",
   "execution_count": 101,
   "id": "53ac041b",
   "metadata": {},
   "outputs": [],
   "source": [
    "categorical = ['PU_DO']#['PULocationID', 'DOLocationID']\n",
    "numerical = ['trip_distance']\n",
    "\n",
    "train_dict = train_df[categorical + numerical].to_dict(orient=\"records\")\n",
    "val_dicts = test_df[categorical + numerical].to_dict(orient=\"records\")\n",
    "\n",
    "dv = DictVectorizer()\n",
    "X_train = dv.fit_transform(train_dict)\n",
    "X_val = dv.transform(val_dicts)\n",
    "\n",
    "target = 'duration'\n",
    "y_train = train_df[target].values\n",
    "y_val = test_df[target].values"
   ]
  },
  {
   "cell_type": "code",
   "execution_count": 102,
   "id": "eed31a10",
   "metadata": {},
   "outputs": [
    {
     "name": "stdout",
     "output_type": "stream",
     "text": [
      "train:  4.652850237786116\n",
      "test:  5.98265006818705\n"
     ]
    }
   ],
   "source": [
    "lr_model = LinearRegression()\n",
    "lr_model.fit(X_train, y_train)\n",
    "\n",
    "y_train_pred = lr_model.predict(X_train)\n",
    "y_pred = lr_model.predict(X_val)\n",
    "\n",
    "print(\"train: \", mean_squared_error(y_train, y_train_pred, squared=False))\n",
    "print(\"test: \", mean_squared_error(y_val, y_pred, squared=False))"
   ]
  },
  {
   "cell_type": "code",
   "execution_count": 103,
   "id": "3584dc70",
   "metadata": {},
   "outputs": [
    {
     "name": "stdout",
     "output_type": "stream",
     "text": [
      "train:  9.019532867192334\n",
      "test:  9.110340896856446\n"
     ]
    }
   ],
   "source": [
    "lr_model = Lasso()\n",
    "lr_model.fit(X_train, y_train)\n",
    "\n",
    "y_train_pred = lr_model.predict(X_train)\n",
    "y_pred = lr_model.predict(X_val)\n",
    "\n",
    "print(\"train: \", mean_squared_error(y_train, y_train_pred, squared=False))\n",
    "print(\"test: \", mean_squared_error(y_val, y_pred, squared=False))"
   ]
  },
  {
   "cell_type": "code",
   "execution_count": 104,
   "id": "4496747b",
   "metadata": {},
   "outputs": [
    {
     "name": "stdout",
     "output_type": "stream",
     "text": [
      "train:  7.929757988246295\n",
      "test:  8.03695949587832\n"
     ]
    }
   ],
   "source": [
    "lr_model = Ridge()\n",
    "lr_model.fit(X_train, y_train)\n",
    "\n",
    "y_train_pred = lr_model.predict(X_train)\n",
    "y_pred = lr_model.predict(X_val)\n",
    "\n",
    "print(\"train: \", mean_squared_error(y_train, y_train_pred, squared=False))\n",
    "print(\"test: \", mean_squared_error(y_val, y_pred, squared=False))"
   ]
  },
  {
   "cell_type": "code",
   "execution_count": 109,
   "id": "514df3da",
   "metadata": {},
   "outputs": [
    {
     "name": "stdout",
     "output_type": "stream",
     "text": [
      "train:  5.063927633534167\n",
      "test:  5.365642179025046\n"
     ]
    }
   ],
   "source": [
    "xgb_model = XGBRegressor()\n",
    "xgb_model.fit(X_train, y_train)\n",
    "\n",
    "y_train_pred = xgb_model.predict(X_train)\n",
    "y_pred = xgb_model.predict(X_val)\n",
    "\n",
    "print(\"train: \", mean_squared_error(y_train, y_train_pred, squared=False))\n",
    "print(\"test: \", mean_squared_error(y_val, y_pred, squared=False))"
   ]
  },
  {
   "cell_type": "code",
   "execution_count": 111,
   "id": "29cdfaa5",
   "metadata": {},
   "outputs": [],
   "source": [
    "with open('models/xgb_model.bin', 'wb') as f_out:\n",
    "    pickle.dump((dv, xgb_model), f_out)"
   ]
  },
  {
   "cell_type": "code",
   "execution_count": null,
   "id": "d5fe1b74",
   "metadata": {},
   "outputs": [],
   "source": []
  }
 ],
 "metadata": {
  "kernelspec": {
   "display_name": "Python 3 (ipykernel)",
   "language": "python",
   "name": "python3"
  },
  "language_info": {
   "codemirror_mode": {
    "name": "ipython",
    "version": 3
   },
   "file_extension": ".py",
   "mimetype": "text/x-python",
   "name": "python",
   "nbconvert_exporter": "python",
   "pygments_lexer": "ipython3",
   "version": "3.9.12"
  }
 },
 "nbformat": 4,
 "nbformat_minor": 5
}
